{
 "cells": [
  {
   "cell_type": "markdown",
   "metadata": {},
   "source": [
    "Recreacion del codigo para ejecutar el algoritmo txmeans, puediendolo depurar de una manera mas eficiente"
   ]
  },
  {
   "cell_type": "code",
   "execution_count": 1,
   "metadata": {},
   "outputs": [],
   "source": [
    "from algorithms.coolcat import *\n",
    "from generators.datamanager import *\n",
    "from validation.validation_measures import *\n",
    "import datetime\n"
   ]
  },
  {
   "cell_type": "markdown",
   "metadata": {},
   "source": [
    "Leer y modificar el dataset"
   ]
  },
  {
   "cell_type": "code",
   "execution_count": 2,
   "metadata": {},
   "outputs": [
    {
     "name": "stdout",
     "output_type": "stream",
     "text": [
      "mushrooms.csv 8124\n"
     ]
    }
   ],
   "source": [
    "path = '../dataset/'\n",
    "dataset_name = 'mushrooms.csv'\n",
    "\n",
    "coolcat = Coolcat()\n",
    "\n",
    "nclusters = 2\n",
    "    \n",
    "filename = path + dataset_name\n",
    "class_index = 0\n",
    "skipcolumnsindex = set()\n",
    "    \n",
    "baskets_real_labels, maps = read_uci_data(filename, class_index=class_index, skipcolumnsindex=skipcolumnsindex)\n",
    "\n",
    "print( dataset_name, len(baskets_real_labels))"
   ]
  },
  {
   "cell_type": "markdown",
   "metadata": {},
   "source": [
    "Preparar el dataset para ser ejecutado, añadiendo las transacciones en baskets, modificandolas a bits"
   ]
  },
  {
   "cell_type": "code",
   "execution_count": 3,
   "metadata": {},
   "outputs": [],
   "source": [
    "baskets_list = list()\n",
    "real_labels = list()\n",
    "count = 0\n",
    "for basket, label in baskets_real_labels:\n",
    "    baskets_list.append(basket)\n",
    "    real_labels.append(label)\n",
    "    count += 1\n",
    "baskets_list, map_newitem_item, map_item_newitem = remap_items(baskets_list)\n",
    "baskets_list = basket_list_to_bitarray(baskets_list, len(map_newitem_item))\n",
    "\n",
    "nbaskets = len(baskets_list)\n",
    "nitems = count_items(baskets_list)"
   ]
  },
  {
   "cell_type": "markdown",
   "metadata": {},
   "source": [
    "Ejecucion del algoritmo txmeans"
   ]
  },
  {
   "cell_type": "code",
   "execution_count": 4,
   "metadata": {},
   "outputs": [
    {
     "name": "stderr",
     "output_type": "stream",
     "text": [
      "c:\\Users\\adria\\Desktop\\TFG\\TXMeans\\code\\algorithms\\coolcat.py:23: RuntimeWarning: invalid value encountered in log2\n",
      "  entropy_item = - ((p * np.log2(p)) + ((1-p) * np.log2(1-p)))\n"
     ]
    }
   ],
   "source": [
    "start_time = datetime.datetime.now()\n",
    "\n",
    "nsample = sample_size(nbaskets, 0.05, conf_level=0.99, prob=0.5)\n",
    "coolcat.fit(baskets_list, nbaskets, nitems, nclusters, random_sample=nsample)\n",
    "\n",
    "\n",
    "\n",
    "end_time = datetime.datetime.now()\n",
    "running_time = end_time - start_time"
   ]
  },
  {
   "cell_type": "markdown",
   "metadata": {},
   "source": [
    "Resultados Pd cada vez que se ejecuta el algoritmo los resultasdos varian "
   ]
  },
  {
   "cell_type": "code",
   "execution_count": 5,
   "metadata": {},
   "outputs": [
    {
     "name": "stdout",
     "output_type": "stream",
     "text": [
      "delta_k 0\n",
      "normalized_mutual_info_score 0.0005873249099229242\n",
      "purity 0.517971442639094\n",
      "running_time 0:00:53.712205\n"
     ]
    }
   ],
   "source": [
    "res = coolcat.clustering\n",
    "#iter_count = bicartd.iter_count\n",
    "pred_labels = [0] * len(real_labels)\n",
    "baskets_clusters = list()\n",
    "for cluster, label in zip(res, range(0, len(res))):\n",
    "    cluster_list = basket_bitarray_to_list(cluster['cluster']).values()\n",
    "    for bid in cluster['cluster']:\n",
    "        pred_labels[bid] = label\n",
    "        baskets_clusters.append(cluster_list)\n",
    "\n",
    "print('delta_k', delta_k(real_labels, pred_labels))\n",
    "print('normalized_mutual_info_score', normalized_mutual_info_score(real_labels, pred_labels))\n",
    "print('purity', purity(real_labels, pred_labels))\n",
    "print('running_time', running_time)"
   ]
  }
 ],
 "metadata": {
  "kernelspec": {
   "display_name": "environment",
   "language": "python",
   "name": "python3"
  },
  "language_info": {
   "codemirror_mode": {
    "name": "ipython",
    "version": 3
   },
   "file_extension": ".py",
   "mimetype": "text/x-python",
   "name": "python",
   "nbconvert_exporter": "python",
   "pygments_lexer": "ipython3",
   "version": "3.11.3"
  }
 },
 "nbformat": 4,
 "nbformat_minor": 2
}
