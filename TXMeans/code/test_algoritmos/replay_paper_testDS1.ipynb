{
 "cells": [
  {
   "cell_type": "code",
   "execution_count": 1,
   "metadata": {},
   "outputs": [],
   "source": [
    "from generators.datagenerator import *\n",
    "from generators.datamanager import *\n",
    "from validation.validation_measures import *\n",
    "from tabulate import tabulate\n",
    "\n",
    "from algorithms.atdc import *\n",
    "from algorithms.tkmeans import *\n",
    "from algorithms.coolcat import *\n",
    "from algorithms.practical import *\n",
    "from algorithms.clope import *\n",
    "from algorithms.txmeans import *"
   ]
  },
  {
   "cell_type": "code",
   "execution_count": 2,
   "metadata": {},
   "outputs": [],
   "source": [
    "txmeans = TXmeans()\n",
    "tkmeans = TKMeans()\n",
    "coolcat = Coolcat()\n",
    "practical = Practical()\n",
    "clope = Clope()\n",
    "atdc = Atdc()"
   ]
  },
  {
   "cell_type": "markdown",
   "metadata": {},
   "source": [
    "Creaccion del dataset DS1"
   ]
  },
  {
   "cell_type": "code",
   "execution_count": null,
   "metadata": {},
   "outputs": [],
   "source": [
    "baskets_list = list()\n",
    "nclus=3\n",
    "ntrans=1000\n",
    "nitms=75\n",
    "avg_tlen=5"
   ]
  },
  {
   "cell_type": "code",
   "execution_count": 4,
   "metadata": {},
   "outputs": [],
   "source": [
    "baskets_real_labels=generate_syntetic_data1(nclus,ntrans,nitms,avg_tlen)"
   ]
  },
  {
   "cell_type": "code",
   "execution_count": 5,
   "metadata": {},
   "outputs": [],
   "source": [
    "resultados = []\n",
    "\n",
    "# Estructura de cada elemento (diccionario con 5 claves)\n",
    "estructura = {\n",
    "    'nombre': None,\n",
    "    'delta_k': None,\n",
    "    'normalized_mutual_info_score': None,\n",
    "    'purity': None,\n",
    "    'running_time': None\n",
    "}\n",
    "\n"
   ]
  },
  {
   "cell_type": "markdown",
   "metadata": {},
   "source": [
    "Transaformacion del dataset"
   ]
  },
  {
   "cell_type": "code",
   "execution_count": 6,
   "metadata": {},
   "outputs": [],
   "source": [
    "nbaskets=nclus\n",
    "baskets_list = list()\n",
    "real_labels = list()\n",
    "count = 0\n",
    "for basket, label in baskets_real_labels:\n",
    "    baskets_list.append(basket)\n",
    "    real_labels.append(label)\n",
    "    count += 1\n",
    "baskets_list, map_newitem_item, map_item_newitem = remap_items(baskets_list)\n",
    "baskets_list = basket_list_to_bitarray(baskets_list, len(map_newitem_item))\n",
    "\n",
    "nbaskets = len(baskets_list)\n",
    "nitems = count_items(baskets_list)"
   ]
  },
  {
   "cell_type": "markdown",
   "metadata": {},
   "source": [
    "Aplicacion de los algoritmos"
   ]
  },
  {
   "cell_type": "markdown",
   "metadata": {},
   "source": [
    "TXMEANS"
   ]
  },
  {
   "cell_type": "code",
   "execution_count": 7,
   "metadata": {},
   "outputs": [],
   "source": [
    "\n",
    "start_time = datetime.datetime.now()\n",
    "\n",
    "nsample = sample_size(nbaskets, 0.05, conf_level=0.99, prob=0.5)\n",
    "txmeans.fit(baskets_list, nbaskets, nitems, random_sample=nsample)\n",
    "\n",
    "end_time = datetime.datetime.now()"
   ]
  },
  {
   "cell_type": "code",
   "execution_count": 8,
   "metadata": {},
   "outputs": [
    {
     "name": "stdout",
     "output_type": "stream",
     "text": [
      "0.987\n"
     ]
    }
   ],
   "source": [
    "res = txmeans.clustering\n",
    "#iter_count = bicartd.iter_count\n",
    "pred_labels = [0] * len(real_labels)\n",
    "baskets_clusters = list()\n",
    "for cluster, label in zip(res, range(0, len(res))):\n",
    "    cluster_list = basket_bitarray_to_list(cluster['cluster']).values()\n",
    "    for bid in cluster['cluster']:\n",
    "        pred_labels[bid] = label\n",
    "        baskets_clusters.append(cluster_list)\n",
    "\n",
    "resultados.append(estructura.copy())\n",
    "resultados[0]['nombre']=\"Txmeans\"\n",
    "resultados[0]['delta_k']=delta_k(real_labels, pred_labels)\n",
    "resultados[0]['normalized_mutual_info_score']=normalized_mutual_info_score(real_labels, pred_labels)\n",
    "resultados[0]['purity']=purity(real_labels, pred_labels)\n",
    "resultados[0]['running_time']=end_time - start_time\n",
    "\n",
    "print(resultados[0]['purity'])"
   ]
  },
  {
   "cell_type": "markdown",
   "metadata": {},
   "source": [
    "TKmeans"
   ]
  },
  {
   "cell_type": "code",
   "execution_count": 9,
   "metadata": {},
   "outputs": [],
   "source": [
    "nbaskets=nclus\n",
    "baskets_list = list()\n",
    "real_labels = list()\n",
    "count = 0\n",
    "for basket, label in baskets_real_labels:\n",
    "    baskets_list.append(basket)\n",
    "    real_labels.append(label)\n",
    "    count += 1\n",
    "baskets_list, map_newitem_item, map_item_newitem = remap_items(baskets_list)\n",
    "baskets_list = basket_list_to_bitarray(baskets_list, len(map_newitem_item))\n",
    "\n",
    "nbaskets = len(baskets_list)\n",
    "nitems = count_items(baskets_list)"
   ]
  },
  {
   "cell_type": "code",
   "execution_count": 10,
   "metadata": {},
   "outputs": [],
   "source": [
    "\n",
    "start_time = datetime.datetime.now()\n",
    "\n",
    "tkmeans.fit(baskets_list, nbaskets, nitems, nclus)\n",
    "\n",
    "end_time = datetime.datetime.now()\n"
   ]
  },
  {
   "cell_type": "code",
   "execution_count": 11,
   "metadata": {},
   "outputs": [],
   "source": [
    "res = tkmeans.clustering\n",
    "#iter_count = bicartd.iter_count\n",
    "pred_labels = [0] * len(real_labels)\n",
    "baskets_clusters = list()\n",
    "for cluster, label in zip(res, range(0, len(res))):\n",
    "    cluster_list = basket_bitarray_to_list(cluster['cluster']).values()\n",
    "    for bid in cluster['cluster']:\n",
    "        pred_labels[bid] = label\n",
    "        baskets_clusters.append(cluster_list)\n",
    "\n",
    "resultados.append(estructura.copy())\n",
    "resultados[1]['nombre']=\"Tkmeans\"\n",
    "resultados[1]['delta_k']=delta_k(real_labels, pred_labels)\n",
    "resultados[1]['normalized_mutual_info_score']=normalized_mutual_info_score(real_labels, pred_labels)\n",
    "resultados[1]['purity']=purity(real_labels, pred_labels)\n",
    "resultados[1]['running_time']=end_time - start_time\n"
   ]
  },
  {
   "cell_type": "code",
   "execution_count": null,
   "metadata": {},
   "outputs": [],
   "source": []
  },
  {
   "cell_type": "markdown",
   "metadata": {},
   "source": [
    "Practical"
   ]
  },
  {
   "cell_type": "code",
   "execution_count": 12,
   "metadata": {},
   "outputs": [],
   "source": [
    "nbaskets=nclus\n",
    "baskets_list = list()\n",
    "real_labels = list()\n",
    "count = 0\n",
    "for basket, label in baskets_real_labels:\n",
    "    baskets_list.append(basket)\n",
    "    real_labels.append(label)\n",
    "    count += 1\n",
    "baskets_list, map_newitem_item, map_item_newitem = remap_items(baskets_list)\n",
    "baskets_list = basket_list_to_bitarray(baskets_list, len(map_newitem_item))\n",
    "\n",
    "nbaskets = len(baskets_list)\n",
    "nitems = count_items(baskets_list)"
   ]
  },
  {
   "cell_type": "code",
   "execution_count": 13,
   "metadata": {},
   "outputs": [],
   "source": [
    "start_time = datetime.datetime.now()\n",
    "\n",
    "practical.fit(baskets_list, nbaskets, nitems)\n",
    "\n",
    "end_time = datetime.datetime.now()"
   ]
  },
  {
   "cell_type": "code",
   "execution_count": 14,
   "metadata": {},
   "outputs": [],
   "source": [
    "res = coolcat.clustering\n",
    "#iter_count = bicartd.iter_count\n",
    "pred_labels = [0] * len(real_labels)\n",
    "baskets_clusters = list()\n",
    "for cluster, label in zip(res, range(0, len(res))):\n",
    "    cluster_list = basket_bitarray_to_list(cluster['cluster']).values()\n",
    "    for bid in cluster['cluster']:\n",
    "        pred_labels[bid] = label\n",
    "        baskets_clusters.append(cluster_list)\n",
    "resultados.append(estructura.copy())\n",
    "resultados[2]['nombre']=\"Practical\"\n",
    "resultados[2]['delta_k']=delta_k(real_labels, pred_labels)\n",
    "resultados[2]['normalized_mutual_info_score']=normalized_mutual_info_score(real_labels, pred_labels)\n",
    "resultados[2]['purity']=purity(real_labels, pred_labels)\n",
    "resultados[2]['running_time']=end_time - start_time"
   ]
  },
  {
   "cell_type": "markdown",
   "metadata": {},
   "source": [
    "Atdc"
   ]
  },
  {
   "cell_type": "code",
   "execution_count": 15,
   "metadata": {},
   "outputs": [],
   "source": [
    "nbaskets=nclus\n",
    "baskets_list = list()\n",
    "real_labels = list()\n",
    "count = 0\n",
    "for basket, label in baskets_real_labels:\n",
    "    baskets_list.append(basket)\n",
    "    real_labels.append(label)\n",
    "    count += 1\n",
    "baskets_list, map_newitem_item, map_item_newitem = remap_items(baskets_list)\n",
    "baskets_list = basket_list_to_bitarray(baskets_list, len(map_newitem_item))\n",
    "\n",
    "nbaskets = len(baskets_list)\n",
    "nitems = count_items(baskets_list)"
   ]
  },
  {
   "cell_type": "code",
   "execution_count": 16,
   "metadata": {},
   "outputs": [],
   "source": [
    "start_time = datetime.datetime.now()\n",
    "\n",
    "atdc.fit(baskets_list, nbaskets, nitems, nclus)\n",
    "\n",
    "end_time = datetime.datetime.now()"
   ]
  },
  {
   "cell_type": "code",
   "execution_count": 17,
   "metadata": {},
   "outputs": [],
   "source": [
    "res = atdc.clustering\n",
    "#iter_count = bicartd.iter_count\n",
    "pred_labels = [0] * len(real_labels)\n",
    "baskets_clusters = list()\n",
    "for cluster, label in zip(res, range(0, len(res))):\n",
    "    cluster_list = basket_bitarray_to_list(cluster['cluster']).values()\n",
    "    for bid in cluster['cluster']:\n",
    "        pred_labels[bid] = label\n",
    "        baskets_clusters.append(cluster_list)\n",
    "\n",
    "resultados.append(estructura.copy())\n",
    "resultados[3]['nombre']=\"Atdc\"\n",
    "resultados[3]['delta_k']=delta_k(real_labels, pred_labels)\n",
    "resultados[3]['normalized_mutual_info_score']=normalized_mutual_info_score(real_labels, pred_labels)\n",
    "resultados[3]['purity']=purity(real_labels, pred_labels)\n",
    "resultados[3]['running_time']=end_time - start_time"
   ]
  },
  {
   "cell_type": "markdown",
   "metadata": {},
   "source": [
    "Coolcat"
   ]
  },
  {
   "cell_type": "code",
   "execution_count": 18,
   "metadata": {},
   "outputs": [],
   "source": [
    "nbaskets=nclus\n",
    "baskets_list = list()\n",
    "real_labels = list()\n",
    "count = 0\n",
    "for basket, label in baskets_real_labels:\n",
    "    baskets_list.append(basket)\n",
    "    real_labels.append(label)\n",
    "    count += 1\n",
    "baskets_list, map_newitem_item, map_item_newitem = remap_items(baskets_list)\n",
    "baskets_list = basket_list_to_bitarray(baskets_list, len(map_newitem_item))\n",
    "\n",
    "nbaskets = len(baskets_list)\n",
    "nitems = count_items(baskets_list)"
   ]
  },
  {
   "cell_type": "code",
   "execution_count": 19,
   "metadata": {},
   "outputs": [
    {
     "name": "stderr",
     "output_type": "stream",
     "text": [
      "c:\\Users\\adria\\Desktop\\TFG\\TXMeans\\code\\algorithms\\coolcat.py:23: RuntimeWarning: invalid value encountered in log2\n",
      "  entropy_item = - ((p * np.log2(p)) + ((1-p) * np.log2(1-p)))\n"
     ]
    }
   ],
   "source": [
    "start_time = datetime.datetime.now()\n",
    "\n",
    "nsample = sample_size(nbaskets, 0.05, conf_level=0.99, prob=0.5)\n",
    "coolcat.fit(baskets_list, nbaskets, nitems, nclus, random_sample=nsample)\n",
    "\n",
    "end_time = datetime.datetime.now()"
   ]
  },
  {
   "cell_type": "code",
   "execution_count": 20,
   "metadata": {},
   "outputs": [],
   "source": [
    "res = coolcat.clustering\n",
    "#iter_count = bicartd.iter_count\n",
    "pred_labels = [0] * len(real_labels)\n",
    "baskets_clusters = list()\n",
    "for cluster, label in zip(res, range(0, len(res))):\n",
    "    cluster_list = basket_bitarray_to_list(cluster['cluster']).values()\n",
    "    for bid in cluster['cluster']:\n",
    "        pred_labels[bid] = label\n",
    "        baskets_clusters.append(cluster_list)\n",
    "\n",
    "resultados.append(estructura.copy())\n",
    "resultados[4]['nombre']=\"Coolcat\"\n",
    "resultados[4]['delta_k']=delta_k(real_labels, pred_labels)\n",
    "resultados[4]['normalized_mutual_info_score']=normalized_mutual_info_score(real_labels, pred_labels)\n",
    "resultados[4]['purity']=purity(real_labels, pred_labels)\n",
    "resultados[4]['running_time']=end_time - start_time"
   ]
  },
  {
   "cell_type": "markdown",
   "metadata": {},
   "source": [
    "Clope"
   ]
  },
  {
   "cell_type": "code",
   "execution_count": 21,
   "metadata": {},
   "outputs": [],
   "source": [
    "nbaskets=nclus\n",
    "baskets_list = list()\n",
    "real_labels = list()\n",
    "count = 0\n",
    "for basket, label in baskets_real_labels:\n",
    "    baskets_list.append(basket)\n",
    "    real_labels.append(label)\n",
    "    count += 1\n",
    "baskets_list, map_newitem_item, map_item_newitem = remap_items(baskets_list)\n",
    "baskets_list = basket_list_to_bitarray(baskets_list, len(map_newitem_item))\n",
    "\n",
    "nbaskets = len(baskets_list)\n",
    "nitems = count_items(baskets_list)"
   ]
  },
  {
   "cell_type": "code",
   "execution_count": 22,
   "metadata": {},
   "outputs": [],
   "source": [
    "start_time = datetime.datetime.now()\n",
    "\n",
    "\n",
    "clope.fit(baskets_list, nbaskets, nitems, nclus)\n",
    "\n",
    "end_time = datetime.datetime.now()"
   ]
  },
  {
   "cell_type": "code",
   "execution_count": 23,
   "metadata": {},
   "outputs": [],
   "source": [
    "res = clope.clustering\n",
    "#iter_count = bicartd.iter_count\n",
    "pred_labels = [0] * len(real_labels)\n",
    "baskets_clusters = list()\n",
    "for cluster, label in zip(res, range(0, len(res))):\n",
    "    cluster_list = basket_bitarray_to_list(cluster['cluster']).values()\n",
    "    for bid in cluster['cluster']:\n",
    "        pred_labels[bid] = label\n",
    "        baskets_clusters.append(cluster_list)\n",
    "\n",
    "resultados.append(estructura.copy())\n",
    "resultados[5]['nombre']=\"Clope\"\n",
    "resultados[5]['delta_k']=delta_k(real_labels, pred_labels)\n",
    "resultados[5]['normalized_mutual_info_score']=normalized_mutual_info_score(real_labels, pred_labels)\n",
    "resultados[5]['purity']=purity(real_labels, pred_labels)\n",
    "resultados[5]['running_time']=end_time - start_time"
   ]
  },
  {
   "cell_type": "code",
   "execution_count": 24,
   "metadata": {},
   "outputs": [
    {
     "name": "stdout",
     "output_type": "stream",
     "text": [
      "╒═════════════╤═══════════╤══════════╤══════════╤════════════════╕\n",
      "│  Algoritmo  │  Delta K  │   NMI    │  Purity  │     Tiempo     │\n",
      "╞═════════════╪═══════════╪══════════╪══════════╪════════════════╡\n",
      "│   Txmeans   │     3     │ 0.742033 │  0.987   │ 0:00:00.138072 │\n",
      "├─────────────┼───────────┼──────────┼──────────┼────────────────┤\n",
      "│   Tkmeans   │     0     │ 0.608529 │  0.662   │ 0:00:08.264668 │\n",
      "├─────────────┼───────────┼──────────┼──────────┼────────────────┤\n",
      "│  Practical  │    -2     │    0     │  0.334   │ 0:00:22.568839 │\n",
      "├─────────────┼───────────┼──────────┼──────────┼────────────────┤\n",
      "│    Atdc     │    96     │ 0.382887 │  0.982   │ 0:04:37.239561 │\n",
      "├─────────────┼───────────┼──────────┼──────────┼────────────────┤\n",
      "│   Coolcat   │     0     │ 0.340207 │  0.705   │ 0:00:12.459325 │\n",
      "├─────────────┼───────────┼──────────┼──────────┼────────────────┤\n",
      "│    Clope    │    330    │ 0.442771 │  0.989   │ 0:00:02.518407 │\n",
      "╘═════════════╧═══════════╧══════════╧══════════╧════════════════╛\n"
     ]
    }
   ],
   "source": [
    "tabla = []\n",
    "for resultado in resultados:\n",
    "    fila = [\n",
    "        resultado['nombre'],\n",
    "        resultado['delta_k'],\n",
    "        resultado['normalized_mutual_info_score'],\n",
    "        resultado['purity'],\n",
    "        resultado['running_time']\n",
    "    ]\n",
    "    tabla.append(fila)\n",
    "\n",
    "headers = [\n",
    "    \"Algoritmo\", \n",
    "    \"Delta K\", \n",
    "    \"NMI\", \n",
    "    \"Purity\", \n",
    "    \"Tiempo\"\n",
    "]\n",
    "\n",
    "# Mostrar la tabla\n",
    "print(tabulate(\n",
    "    tabla,\n",
    "    headers=headers,\n",
    "    tablefmt=\"fancy_grid\",\n",
    "    stralign=\"center\",\n",
    "    numalign=\"center\"\n",
    "))"
   ]
  }
 ],
 "metadata": {
  "kernelspec": {
   "display_name": "environment",
   "language": "python",
   "name": "python3"
  },
  "language_info": {
   "codemirror_mode": {
    "name": "ipython",
    "version": 3
   },
   "file_extension": ".py",
   "mimetype": "text/x-python",
   "name": "python",
   "nbconvert_exporter": "python",
   "pygments_lexer": "ipython3",
   "version": "3.11.3"
  }
 },
 "nbformat": 4,
 "nbformat_minor": 2
}
