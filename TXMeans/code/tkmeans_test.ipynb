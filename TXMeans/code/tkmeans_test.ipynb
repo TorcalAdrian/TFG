{
 "cells": [
  {
   "cell_type": "markdown",
   "metadata": {},
   "source": [
    "Recreacion del codigo para ejecutar el algoritmo txmeans, puediendolo depurar de una manera mas eficiente"
   ]
  },
  {
   "cell_type": "code",
   "execution_count": 1,
   "metadata": {},
   "outputs": [],
   "source": [
    "from algorithms.tkmeans import *\n",
    "from generators.datamanager import *\n",
    "from validation.validation_measures import *\n",
    "import datetime\n",
    "from generators.datagenerator import *"
   ]
  },
  {
   "cell_type": "markdown",
   "metadata": {},
   "source": [
    "Leer y modificar el dataset"
   ]
  },
  {
   "cell_type": "code",
   "execution_count": 2,
   "metadata": {},
   "outputs": [],
   "source": [
    "baskets_list = list()\n",
    "nclus=4\n",
    "ntrans=100\n",
    "nitms=100000\n",
    "avg_tlen=20"
   ]
  },
  {
   "cell_type": "code",
   "execution_count": 3,
   "metadata": {},
   "outputs": [],
   "source": [
    "baskets_real_labels=generate_syntetic_data1(nclus,ntrans,nitms,avg_tlen)"
   ]
  },
  {
   "cell_type": "code",
   "execution_count": 4,
   "metadata": {},
   "outputs": [],
   "source": [
    "tkmeans = TKMeans()\n",
    "nclusters = 4"
   ]
  },
  {
   "cell_type": "code",
   "execution_count": 5,
   "metadata": {},
   "outputs": [
    {
     "name": "stdout",
     "output_type": "stream",
     "text": [
      "mushrooms.csv 8124\n"
     ]
    }
   ],
   "source": [
    "path = '../dataset/'\n",
    "dataset_name = 'mushrooms.csv'\n",
    "\n",
    "tkmeans = TKMeans()\n",
    "\n",
    "\n",
    "    \n",
    "filename = path + dataset_name\n",
    "class_index = 0\n",
    "skipcolumnsindex = set()\n",
    "    \n",
    "baskets_real_labels, maps = read_uci_data(filename, class_index=class_index, skipcolumnsindex=skipcolumnsindex)\n",
    "\n",
    "print( dataset_name, len(baskets_real_labels))"
   ]
  },
  {
   "cell_type": "markdown",
   "metadata": {},
   "source": [
    "Preparar el dataset para ser ejecutado, añadiendo las transacciones en baskets, modificandolas a bits"
   ]
  },
  {
   "cell_type": "code",
   "execution_count": 6,
   "metadata": {},
   "outputs": [],
   "source": [
    "baskets_list = list()\n",
    "real_labels = list()\n",
    "count = 0\n",
    "for basket, label in baskets_real_labels:\n",
    "    baskets_list.append(basket)\n",
    "    real_labels.append(label)\n",
    "    count += 1\n",
    "baskets_list, map_newitem_item, map_item_newitem = remap_items(baskets_list)\n",
    "baskets_list = basket_list_to_bitarray(baskets_list, len(map_newitem_item))\n",
    "nbaskets = len(baskets_list)\n",
    "nitems = count_items(baskets_list)"
   ]
  },
  {
   "cell_type": "markdown",
   "metadata": {},
   "source": [
    "Ejecucion del algoritmo txmeans"
   ]
  },
  {
   "cell_type": "code",
   "execution_count": 7,
   "metadata": {},
   "outputs": [
    {
     "ename": "KeyboardInterrupt",
     "evalue": "",
     "output_type": "error",
     "traceback": [
      "\u001b[1;31m---------------------------------------------------------------------------\u001b[0m",
      "\u001b[1;31mKeyboardInterrupt\u001b[0m                         Traceback (most recent call last)",
      "Cell \u001b[1;32mIn[7], line 3\u001b[0m\n\u001b[0;32m      1\u001b[0m start_time \u001b[38;5;241m=\u001b[39m datetime\u001b[38;5;241m.\u001b[39mdatetime\u001b[38;5;241m.\u001b[39mnow()\n\u001b[1;32m----> 3\u001b[0m \u001b[43mtkmeans\u001b[49m\u001b[38;5;241;43m.\u001b[39;49m\u001b[43mfit\u001b[49m\u001b[43m(\u001b[49m\u001b[43mbaskets_list\u001b[49m\u001b[43m,\u001b[49m\u001b[43m \u001b[49m\u001b[43mnbaskets\u001b[49m\u001b[43m,\u001b[49m\u001b[43m \u001b[49m\u001b[43mnitems\u001b[49m\u001b[43m,\u001b[49m\u001b[43m \u001b[49m\u001b[43mnclusters\u001b[49m\u001b[43m)\u001b[49m\n\u001b[0;32m      7\u001b[0m end_time \u001b[38;5;241m=\u001b[39m datetime\u001b[38;5;241m.\u001b[39mdatetime\u001b[38;5;241m.\u001b[39mnow()\n\u001b[0;32m      8\u001b[0m running_time \u001b[38;5;241m=\u001b[39m end_time \u001b[38;5;241m-\u001b[39m start_time\n",
      "File \u001b[1;32mc:\\Users\\adria\\Desktop\\TFG\\TXMeans\\code\\algorithms\\tkmeans.py:159\u001b[0m, in \u001b[0;36mTKMeans.fit\u001b[1;34m(self, baskets, nbaskets, nitems, k, min_item_freq, niter, max_iter)\u001b[0m\n\u001b[0;32m    156\u001b[0m best_iter_count \u001b[38;5;241m=\u001b[39m \u001b[38;5;28;01mNone\u001b[39;00m\n\u001b[0;32m    157\u001b[0m \u001b[38;5;28;01mfor\u001b[39;00m i \u001b[38;5;129;01min\u001b[39;00m \u001b[38;5;28mrange\u001b[39m(\u001b[38;5;241m0\u001b[39m, \u001b[38;5;28mself\u001b[39m\u001b[38;5;241m.\u001b[39mniter):\n\u001b[1;32m--> 159\u001b[0m     clustering_res, distances, iter_count \u001b[38;5;241m=\u001b[39m \u001b[38;5;28;43mself\u001b[39;49m\u001b[38;5;241;43m.\u001b[39;49m\u001b[43m_run\u001b[49m\u001b[43m(\u001b[49m\u001b[43mbaskets\u001b[49m\u001b[43m)\u001b[49m\n\u001b[0;32m    160\u001b[0m     tot_dist \u001b[38;5;241m=\u001b[39m \u001b[38;5;241m0\u001b[39m\n\u001b[0;32m    161\u001b[0m     den \u001b[38;5;241m=\u001b[39m \u001b[38;5;241m0\u001b[39m\n",
      "File \u001b[1;32mc:\\Users\\adria\\Desktop\\TFG\\TXMeans\\code\\algorithms\\tkmeans.py:217\u001b[0m, in \u001b[0;36mTKMeans._run\u001b[1;34m(self, baskets)\u001b[0m\n\u001b[0;32m    215\u001b[0m \u001b[38;5;28;01mif\u001b[39;00m \u001b[38;5;28mlen\u001b[39m(subbaskets) \u001b[38;5;241m>\u001b[39m \u001b[38;5;241m0\u001b[39m:\n\u001b[0;32m    216\u001b[0m     item_baskets, freq \u001b[38;5;241m=\u001b[39m calculate_item_baskets_freq(subbaskets, \u001b[38;5;28mself\u001b[39m\u001b[38;5;241m.\u001b[39mnbaskets)\n\u001b[1;32m--> 217\u001b[0m     new_centroids[\u001b[38;5;241m-\u001b[39mi\u001b[38;5;241m*\u001b[39m\u001b[38;5;241m1000\u001b[39m] \u001b[38;5;241m=\u001b[39m \u001b[43mrep\u001b[49m\u001b[43m(\u001b[49m\u001b[43msubbaskets\u001b[49m\u001b[43m,\u001b[49m\u001b[43m \u001b[49m\u001b[43mitem_baskets\u001b[49m\u001b[43m,\u001b[49m\u001b[43m \u001b[49m\u001b[43mfreq\u001b[49m\u001b[43m,\u001b[49m\u001b[43m \u001b[49m\u001b[38;5;28;43mself\u001b[39;49m\u001b[38;5;241;43m.\u001b[39;49m\u001b[43mnbaskets\u001b[49m\u001b[43m,\u001b[49m\n\u001b[0;32m    218\u001b[0m \u001b[43m                                 \u001b[49m\u001b[38;5;28;43mself\u001b[39;49m\u001b[38;5;241;43m.\u001b[39;49m\u001b[43mnitems\u001b[49m\u001b[43m,\u001b[49m\u001b[43m \u001b[49m\u001b[38;5;28;43mself\u001b[39;49m\u001b[38;5;241;43m.\u001b[39;49m\u001b[43mmin_item_freq\u001b[49m\u001b[43m)\u001b[49m\n\u001b[0;32m    219\u001b[0m \u001b[38;5;28;01melse\u001b[39;00m:\n\u001b[0;32m    220\u001b[0m     new_centroids[\u001b[38;5;241m-\u001b[39mi\u001b[38;5;241m*\u001b[39m\u001b[38;5;241m1000\u001b[39m] \u001b[38;5;241m=\u001b[39m \u001b[38;5;28mself\u001b[39m\u001b[38;5;241m.\u001b[39mnitems \u001b[38;5;241m*\u001b[39m bitarray(\u001b[38;5;124m'\u001b[39m\u001b[38;5;124m0\u001b[39m\u001b[38;5;124m'\u001b[39m)\n",
      "File \u001b[1;32mc:\\Users\\adria\\Desktop\\TFG\\TXMeans\\code\\algorithms\\tkmeans.py:80\u001b[0m, in \u001b[0;36mrep\u001b[1;34m(baskets, item_baskets, freq, nbaskets, nitems, min_item_freq)\u001b[0m\n\u001b[0;32m     77\u001b[0m     nbr2 \u001b[38;5;241m|\u001b[39m\u001b[38;5;241m=\u001b[39m item_baskets[e]\n\u001b[0;32m     78\u001b[0m     len_m2 \u001b[38;5;241m+\u001b[39m\u001b[38;5;241m=\u001b[39m \u001b[38;5;241m1\u001b[39m\n\u001b[1;32m---> 80\u001b[0m fun_val2 \u001b[38;5;241m=\u001b[39m \u001b[43mfun\u001b[49m\u001b[43m(\u001b[49m\u001b[43mbaskets\u001b[49m\u001b[43m,\u001b[49m\u001b[43m \u001b[49m\u001b[43mm2\u001b[49m\u001b[43m)\u001b[49m\n\u001b[0;32m     82\u001b[0m \u001b[38;5;28;01mif\u001b[39;00m fun_val1 \u001b[38;5;241m<\u001b[39m\u001b[38;5;241m=\u001b[39m fun_val2:\n\u001b[0;32m     83\u001b[0m     \u001b[38;5;28;01mreturn\u001b[39;00m m\n",
      "File \u001b[1;32mc:\\Users\\adria\\Desktop\\TFG\\TXMeans\\code\\algorithms\\tkmeans.py:27\u001b[0m, in \u001b[0;36mfun\u001b[1;34m(baskets, m)\u001b[0m\n\u001b[0;32m     25\u001b[0m res \u001b[38;5;241m=\u001b[39m \u001b[38;5;241m0\u001b[39m\n\u001b[0;32m     26\u001b[0m \u001b[38;5;28;01mfor\u001b[39;00m b \u001b[38;5;129;01min\u001b[39;00m baskets:\n\u001b[1;32m---> 27\u001b[0m     res \u001b[38;5;241m+\u001b[39m\u001b[38;5;241m=\u001b[39m jaccard_bitarray(m, baskets[b])\n\u001b[0;32m     28\u001b[0m \u001b[38;5;28;01mreturn\u001b[39;00m \u001b[38;5;241m1.0\u001b[39m \u001b[38;5;241m*\u001b[39m res \u001b[38;5;241m/\u001b[39m \u001b[38;5;28mlen\u001b[39m(baskets)\n",
      "\u001b[1;31mKeyboardInterrupt\u001b[0m: "
     ]
    }
   ],
   "source": [
    "start_time = datetime.datetime.now()\n",
    "\n",
    "tkmeans.fit(baskets_list, nbaskets, nitems, nclusters)\n",
    "\n",
    "\n",
    "\n",
    "end_time = datetime.datetime.now()\n",
    "running_time = end_time - start_time"
   ]
  },
  {
   "cell_type": "markdown",
   "metadata": {},
   "source": [
    "Resultados Pd cada vez que se ejecuta el algoritmo los resultasdos varian "
   ]
  },
  {
   "cell_type": "code",
   "execution_count": null,
   "metadata": {},
   "outputs": [
    {
     "name": "stdout",
     "output_type": "stream",
     "text": [
      "delta_k 0\n",
      "normalized_mutual_info_score 0.08096540013596806\n",
      "purity 0.35\n",
      "running_time 0:00:03.530589\n"
     ]
    }
   ],
   "source": [
    "res = tkmeans.clustering\n",
    "#iter_count = bicartd.iter_count\n",
    "pred_labels = [0] * len(real_labels)\n",
    "baskets_clusters = list()\n",
    "for cluster, label in zip(res, range(0, len(res))):\n",
    "    cluster_list = basket_bitarray_to_list(cluster['cluster']).values()\n",
    "    for bid in cluster['cluster']:\n",
    "        pred_labels[bid] = label\n",
    "        baskets_clusters.append(cluster_list)\n",
    "\n",
    "print('delta_k', delta_k(real_labels, pred_labels))\n",
    "print('normalized_mutual_info_score', normalized_mutual_info_score(real_labels, pred_labels))\n",
    "print('purity', purity(real_labels, pred_labels))\n",
    "print('running_time', running_time)"
   ]
  }
 ],
 "metadata": {
  "kernelspec": {
   "display_name": "environment",
   "language": "python",
   "name": "python3"
  },
  "language_info": {
   "codemirror_mode": {
    "name": "ipython",
    "version": 3
   },
   "file_extension": ".py",
   "mimetype": "text/x-python",
   "name": "python",
   "nbconvert_exporter": "python",
   "pygments_lexer": "ipython3",
   "version": "3.11.3"
  }
 },
 "nbformat": 4,
 "nbformat_minor": 2
}
